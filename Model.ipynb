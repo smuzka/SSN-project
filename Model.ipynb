{
  "nbformat": 4,
  "nbformat_minor": 0,
  "metadata": {
    "colab": {
      "provenance": [],
      "include_colab_link": true
    },
    "kernelspec": {
      "name": "python3",
      "display_name": "Python 3"
    },
    "language_info": {
      "name": "python"
    }
  },
  "cells": [
    {
      "cell_type": "markdown",
      "metadata": {
        "id": "view-in-github",
        "colab_type": "text"
      },
      "source": [
        "<a href=\"https://colab.research.google.com/github/smuzka/SSN-project/blob/main/Model.ipynb\" target=\"_parent\"><img src=\"https://colab.research.google.com/assets/colab-badge.svg\" alt=\"Open In Colab\"/></a>"
      ]
    },
    {
      "cell_type": "markdown",
      "source": [
        "### Zespół 4:\n",
        "- Jakub Smuga\n",
        "- Konrad Korus\n",
        "- Maksym Kazhaiev"
      ],
      "metadata": {
        "id": "mkAqDGoQ0JKy"
      }
    },
    {
      "cell_type": "markdown",
      "source": [
        "### Podział danych"
      ],
      "metadata": {
        "id": "5yCNizYv0zbS"
      }
    },
    {
      "cell_type": "code",
      "source": [
        "import pandas as pd\n",
        "from sklearn.model_selection import train_test_split\n",
        "from sklearn.preprocessing import LabelEncoder, StandardScaler\n",
        "import torch\n",
        "import torch.nn as nn\n",
        "import torch.optim as optim\n",
        "import numpy as np\n",
        "from sklearn.utils import shuffle"
      ],
      "metadata": {
        "id": "QfVkstAb4oAY"
      },
      "execution_count": null,
      "outputs": []
    },
    {
      "cell_type": "code",
      "source": [
        "random_shuffle_state = 2024\n",
        "\n",
        "def train_valid_test_split(features, targets, valid_p = 0.1, test_p = 0.3):\n",
        "  # shuffle the features and targets in the same way\n",
        "  features = shuffle(features, random_state = random_shuffle_state)\n",
        "  targets = shuffle(targets, random_state = random_shuffle_state)\n",
        "  train_size = int(len(features) * (1 - (test_p + valid_p)))\n",
        "  valid_size = int(len(features) * valid_p)\n",
        "\n",
        "  X_train, X_valid, X_test = features[:train_size], features[train_size:train_size + valid_size], features[train_size + valid_size:]\n",
        "  y_train, y_valid, y_test = targets[:train_size], targets[train_size:train_size + valid_size], targets[train_size + valid_size:]\n",
        "  return (X_train, y_train, X_valid, y_valid, X_test, y_test)"
      ],
      "metadata": {
        "id": "mQDOe95_0zi6"
      },
      "execution_count": null,
      "outputs": []
    },
    {
      "cell_type": "markdown",
      "source": [
        "### Model"
      ],
      "metadata": {
        "id": "qFucwhtl33px"
      }
    },
    {
      "cell_type": "code",
      "source": [
        "import torch.nn as nn\n",
        "import torch.optim as optim"
      ],
      "metadata": {
        "id": "os7I8rdb32Up"
      },
      "execution_count": null,
      "outputs": []
    },
    {
      "cell_type": "code",
      "source": [
        "class MLP(nn.Module):\n",
        "    def __init__(self, input_dim, hidden_dim, output_dim):\n",
        "        super(MLP, self).__init__()\n",
        "        self.fc1 = nn.Linear(input_dim, hidden_dim)\n",
        "        self.fc2 = nn.Linear(hidden_dim, hidden_dim)\n",
        "        self.fc3 = nn.Linear(hidden_dim, output_dim)\n",
        "        self.relu = nn.ReLU()\n",
        "\n",
        "    def forward(self, x):\n",
        "        x = self.relu(self.fc1(x))\n",
        "        x = self.relu(self.fc2(x))\n",
        "        x = self.fc3(x)\n",
        "        return x"
      ],
      "metadata": {
        "id": "8ymBqMtF04rB"
      },
      "execution_count": null,
      "outputs": []
    },
    {
      "cell_type": "markdown",
      "source": [
        "### Funkcja ucząca model"
      ],
      "metadata": {
        "id": "tGqcDfG85ibO"
      }
    },
    {
      "cell_type": "code",
      "source": [
        "def train(model, X_train_tensor, y_train_tensor, X_valid_tensor, y_valid_tensor):\n",
        "    criterion = nn.CrossEntropyLoss()\n",
        "    optimizer = optim.Adam(model.parameters(), lr=0.001)\n",
        "\n",
        "    epochs = 10\n",
        "    batch_size = 32\n",
        "\n",
        "    for epoch in range(epochs):\n",
        "        for i in range(0, len(X_train_tensor), batch_size):\n",
        "            inputs = X_train_tensor[i:i+batch_size]\n",
        "            labels = y_train_tensor[i:i+batch_size]\n",
        "\n",
        "            optimizer.zero_grad()\n",
        "\n",
        "            outputs = model(inputs)\n",
        "\n",
        "            loss = criterion(outputs, labels)\n",
        "\n",
        "            loss.backward()\n",
        "            optimizer.step()\n",
        "\n",
        "        with torch.no_grad():\n",
        "            outputs = model(X_train_tensor)\n",
        "            _, predicted = torch.max(outputs, 1)\n",
        "            train_accuracy = (predicted == y_train_tensor).sum().item() / len(y_train_tensor)\n",
        "\n",
        "            outputs = model(X_valid_tensor)\n",
        "            _, predicted = torch.max(outputs, 1)\n",
        "            valid_accuracy = (predicted == y_valid_tensor).sum().item() / len(y_valid_tensor)\n",
        "\n",
        "            print(f\"Epoch {epoch+1}/{epochs}, Loss: {loss.item():.4f}, Training Accuracy: {train_accuracy:.4f}, Valid Accuracy: {valid_accuracy:.4f}\")"
      ],
      "metadata": {
        "id": "JVbC_kRUAfQU"
      },
      "execution_count": null,
      "outputs": []
    },
    {
      "cell_type": "markdown",
      "source": [
        "## Funkcja sprawdzająca model"
      ],
      "metadata": {
        "id": "H_bV4RONYvr8"
      }
    },
    {
      "cell_type": "code",
      "source": [
        "def evaluate(model, X_test_tensor, y_test_tensor):\n",
        "    model.eval()\n",
        "\n",
        "    with torch.no_grad():\n",
        "        outputs = model(X_test_tensor)\n",
        "        _, predicted = torch.max(outputs, 1)\n",
        "\n",
        "    accuracy = (predicted == y_test_tensor).sum().item() / len(y_test_tensor)\n",
        "\n",
        "    return accuracy"
      ],
      "metadata": {
        "id": "4iBNO5XzYvR8"
      },
      "execution_count": 132,
      "outputs": []
    },
    {
      "cell_type": "markdown",
      "source": [
        "## Pobieranie danych"
      ],
      "metadata": {
        "id": "omfqXa1s5kzG"
      }
    },
    {
      "cell_type": "markdown",
      "source": [
        "### Internet firewall data"
      ],
      "metadata": {
        "id": "V81GPFEk6eqG"
      }
    },
    {
      "cell_type": "code",
      "source": [
        "import os\n",
        "if not os.path.exists('firewall_data.zip'):\n",
        "    # If the file doesn't exist, download it\n",
        "  !pip install wget\n",
        "  !wget https://archive.ics.uci.edu/static/public/542/internet+firewall+data.zip -O firewall_data.zip\n",
        "  !unzip firewall_data.zip\n",
        "\n",
        "import pandas as pd\n",
        "\n",
        "data = pd.read_csv('log2.csv')\n",
        "\n",
        "data.dropna(inplace=True)\n",
        "\n",
        "label_encoder = LabelEncoder()\n",
        "data['Action'] = label_encoder.fit_transform(data['Action'])\n",
        "\n",
        "X = data.drop('Action', axis=1)\n",
        "y = data['Action']"
      ],
      "metadata": {
        "id": "2uBl3TKy5GtR"
      },
      "execution_count": null,
      "outputs": []
    },
    {
      "cell_type": "code",
      "source": [
        "X_train, y_train, X_valid, y_valid, X_test, y_test = train_valid_test_split(X, y)\n",
        "\n",
        "scaler = StandardScaler()\n",
        "X_train = scaler.fit_transform(X_train)\n",
        "X_valid = scaler.transform(X_valid)\n",
        "X_test = scaler.transform(X_test)\n",
        "\n",
        "y_train = y_train.to_numpy()\n",
        "y_valid = y_valid.to_numpy()\n",
        "y_test = y_test.to_numpy()\n",
        "\n",
        "input_dim = X_train.shape[1]\n",
        "hidden_dim = 4\n",
        "output_dim = len(label_encoder.classes_)\n",
        "\n",
        "model = MLP(input_dim, hidden_dim, output_dim)\n",
        "\n",
        "X_train_tensor = torch.tensor(X_train, dtype=torch.float32)\n",
        "y_train_tensor = torch.tensor(y_train, dtype=torch.long)\n",
        "X_valid_tensor = torch.tensor(X_valid, dtype=torch.float32)\n",
        "y_valid_tensor = torch.tensor(y_valid, dtype=torch.long)\n",
        "X_test_tensor = torch.tensor(X_test, dtype=torch.float32)\n",
        "y_test_tensor = torch.tensor(y_test, dtype=torch.long)"
      ],
      "metadata": {
        "id": "3EcNdcRI-mMW"
      },
      "execution_count": null,
      "outputs": []
    },
    {
      "cell_type": "code",
      "source": [
        "train(model, X_train_tensor, y_train_tensor, X_valid_tensor, y_valid_tensor)"
      ],
      "metadata": {
        "id": "v8l4eGQQ_adS",
        "colab": {
          "base_uri": "https://localhost:8080/"
        },
        "outputId": "7254b0c0-d79f-4acf-c3e0-a6859c17299f"
      },
      "execution_count": 133,
      "outputs": [
        {
          "output_type": "stream",
          "name": "stdout",
          "text": [
            "Epoch 1/10, Loss: 0.0078, Training Accuracy: 0.9889, Valid Accuracy: 0.9890\n",
            "Epoch 2/10, Loss: 0.0077, Training Accuracy: 0.9890, Valid Accuracy: 0.9890\n",
            "Epoch 3/10, Loss: 0.0075, Training Accuracy: 0.9894, Valid Accuracy: 0.9894\n",
            "Epoch 4/10, Loss: 0.0074, Training Accuracy: 0.9895, Valid Accuracy: 0.9894\n",
            "Epoch 5/10, Loss: 0.0073, Training Accuracy: 0.9897, Valid Accuracy: 0.9895\n",
            "Epoch 6/10, Loss: 0.0073, Training Accuracy: 0.9899, Valid Accuracy: 0.9897\n",
            "Epoch 7/10, Loss: 0.0073, Training Accuracy: 0.9900, Valid Accuracy: 0.9898\n",
            "Epoch 8/10, Loss: 0.0074, Training Accuracy: 0.9901, Valid Accuracy: 0.9900\n",
            "Epoch 9/10, Loss: 0.0075, Training Accuracy: 0.9902, Valid Accuracy: 0.9902\n",
            "Epoch 10/10, Loss: 0.0075, Training Accuracy: 0.9902, Valid Accuracy: 0.9902\n"
          ]
        }
      ]
    },
    {
      "cell_type": "code",
      "source": [
        "evaluate(model, X_test_tensor, y_test_tensor)"
      ],
      "metadata": {
        "colab": {
          "base_uri": "https://localhost:8080/"
        },
        "id": "Dk2yZumwY1sK",
        "outputId": "eea96d4d-ad6f-4266-9d13-7d65cfb61b82"
      },
      "execution_count": 134,
      "outputs": [
        {
          "output_type": "execute_result",
          "data": {
            "text/plain": [
              "0.9908445868619822"
            ]
          },
          "metadata": {},
          "execution_count": 134
        }
      ]
    },
    {
      "cell_type": "markdown",
      "source": [
        "## BANANA"
      ],
      "metadata": {
        "id": "53vxlgBveF2q"
      }
    },
    {
      "cell_type": "code",
      "source": [
        "data = pd.read_csv('banana_quality.csv')\n",
        "\n",
        "X = data.drop('Quality', axis=1)\n",
        "y = data['Quality']\n",
        "\n",
        "label_encoder = LabelEncoder()\n",
        "y = label_encoder.fit_transform(y)\n",
        "\n",
        "X_train, y_train, X_valid, y_valid, X_test, y_test = train_valid_test_split(X, y)\n",
        "\n",
        "scaler = StandardScaler()\n",
        "X_train = scaler.fit_transform(X_train)\n",
        "X_valid = scaler.transform(X_valid)\n",
        "X_test = scaler.transform(X_test)\n",
        "\n",
        "input_dim = X_train.shape[1]\n",
        "hidden_dim = 4\n",
        "output_dim = len(label_encoder.classes_)\n",
        "\n",
        "\n",
        "model = MLP(input_dim, hidden_dim, output_dim)\n",
        "\n",
        "X_train_tensor = torch.tensor(X_train, dtype=torch.float32)\n",
        "y_train_tensor = torch.tensor(y_train, dtype=torch.long)\n",
        "X_valid_tensor = torch.tensor(X_valid, dtype=torch.float32)\n",
        "y_valid_tensor = torch.tensor(y_valid, dtype=torch.long)\n",
        "X_test_tensor = torch.tensor(X_test, dtype=torch.float32)\n",
        "y_test_tensor = torch.tensor(y_test, dtype=torch.long)\n",
        "\n",
        "train(model, X_train_tensor, y_train_tensor, X_test_tensor, y_test_tensor)"
      ],
      "metadata": {
        "colab": {
          "base_uri": "https://localhost:8080/"
        },
        "id": "O6tPTzPUeHDo",
        "outputId": "b11aeb93-40c1-4e9c-96b2-1b8abd1d7377"
      },
      "execution_count": 136,
      "outputs": [
        {
          "output_type": "stream",
          "name": "stdout",
          "text": [
            "Epoch 1/10, Loss: 0.6801, Training Accuracy: 0.4979, Valid Accuracy: 0.5025\n",
            "Epoch 2/10, Loss: 0.4507, Training Accuracy: 0.8900, Valid Accuracy: 0.8719\n",
            "Epoch 3/10, Loss: 0.2976, Training Accuracy: 0.9050, Valid Accuracy: 0.8881\n",
            "Epoch 4/10, Loss: 0.2461, Training Accuracy: 0.9227, Valid Accuracy: 0.9087\n",
            "Epoch 5/10, Loss: 0.2169, Training Accuracy: 0.9302, Valid Accuracy: 0.9175\n",
            "Epoch 6/10, Loss: 0.1917, Training Accuracy: 0.9394, Valid Accuracy: 0.9250\n",
            "Epoch 7/10, Loss: 0.1715, Training Accuracy: 0.9458, Valid Accuracy: 0.9319\n",
            "Epoch 8/10, Loss: 0.1562, Training Accuracy: 0.9502, Valid Accuracy: 0.9369\n",
            "Epoch 9/10, Loss: 0.1450, Training Accuracy: 0.9527, Valid Accuracy: 0.9387\n",
            "Epoch 10/10, Loss: 0.1365, Training Accuracy: 0.9556, Valid Accuracy: 0.9437\n"
          ]
        }
      ]
    },
    {
      "cell_type": "code",
      "source": [
        "evaluate(model, X_test_tensor, y_test_tensor)"
      ],
      "metadata": {
        "colab": {
          "base_uri": "https://localhost:8080/"
        },
        "id": "D_YJjqfLer40",
        "outputId": "7c0e168d-fd92-4689-b8ac-a61b4d9ffac0"
      },
      "execution_count": 137,
      "outputs": [
        {
          "output_type": "execute_result",
          "data": {
            "text/plain": [
              "0.94375"
            ]
          },
          "metadata": {},
          "execution_count": 137
        }
      ]
    },
    {
      "cell_type": "code",
      "source": [],
      "metadata": {
        "id": "7bdMOWZhe2Rq"
      },
      "execution_count": null,
      "outputs": []
    }
  ]
}